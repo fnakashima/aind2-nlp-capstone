{
 "cells": [
  {
   "cell_type": "markdown",
   "metadata": {
    "collapsed": true
   },
   "source": [
    "# Artificial Intelligence Nanodegree\n",
    "## Machine Translation Project\n",
    "In this notebook, sections that end with **'(IMPLEMENTATION)'** in the header indicate that the following blocks of code will require additional functionality which you must provide. Please be sure to read the instructions carefully!\n",
    "\n",
    "## Introduction\n",
    "In this notebook, you will build a deep neural network that functions as part of an end-to-end machine translation pipeline. Your completed pipeline will accept English text as input and return the French translation.\n",
    "\n",
    "- **Preprocess** - You'll convert text to sequence of integers.\n",
    "- **Models** Create models which accepts a sequence of integers as input and returns a probability distribution over possible translations. After learning about the basic types of neural networks that are often used for machine translation, you will engage in your own investigations, to design your own model!\n",
    "- **Prediction** Run the model on English text.\n",
    "\n",
    "## Dataset\n",
    "We begin by investigating the dataset that will be used to train and evaluate your pipeline.  The most common datasets used for machine translation are from [WMT](http://www.statmt.org/).  However, that will take a long time to train a neural network on.  We'll be using a dataset we created for this project that contains a small vocabulary.  You'll be able to train your model in a reasonable time with this dataset.\n",
    "### Load Data\n",
    "The data is located in `data/small_vocab_en` and `data/small_vocab_fr`. The `small_vocab_en` file contains English sentences with their French translations in the `small_vocab_fr` file. Load the English and French data from these files from running the cell below."
   ]
  },
  {
   "cell_type": "code",
   "execution_count": 1,
   "metadata": {},
   "outputs": [
    {
     "name": "stdout",
     "output_type": "stream",
     "text": [
      "Dataset Loaded\n"
     ]
    }
   ],
   "source": [
    "import helper\n",
    "\n",
    "\n",
    "# Load English data\n",
    "english_sentences = helper.load_data('data/small_vocab_en')\n",
    "# Load French data\n",
    "french_sentences = helper.load_data('data/small_vocab_fr')\n",
    "\n",
    "print('Dataset Loaded')"
   ]
  },
  {
   "cell_type": "markdown",
   "metadata": {},
   "source": [
    "### Files\n",
    "Each line in `small_vocab_en` contains an English sentence with the respective translation in each line of `small_vocab_fr`.  View the first two lines from each file."
   ]
  },
  {
   "cell_type": "code",
   "execution_count": 9,
   "metadata": {},
   "outputs": [
    {
     "name": "stdout",
     "output_type": "stream",
     "text": [
      "small_vocab_en Line 1:  new jersey is sometimes quiet during autumn , and it is snowy in april .\n",
      "small_vocab_fr Line 1:  new jersey est parfois calme pendant l' automne , et il est neigeux en avril .\n",
      "small_vocab_en Line 2:  the united states is usually chilly during july , and it is usually freezing in november .\n",
      "small_vocab_fr Line 2:  les Ã©tats-unis est gÃ©nÃ©ralement froid en juillet , et il gÃ¨le habituellement en novembre .\n"
     ]
    }
   ],
   "source": [
    "for sample_i in range(2):\n",
    "    print('small_vocab_en Line {}:  {}'.format(sample_i + 1, english_sentences[sample_i]))\n",
    "    print('small_vocab_fr Line {}:  {}'.format(sample_i + 1, french_sentences[sample_i]))"
   ]
  },
  {
   "cell_type": "markdown",
   "metadata": {},
   "source": [
    "From looking at the sentences, you can see they have been preprocessed already.  The puncuations have been delimited using spaces. All the text have been converted to lowercase.  This should save you some time, but the text requires more preprocessing.\n",
    "### Vocabulary\n",
    "The complexity of the problem is determined by the complexity of the vocabulary.  A more complex vocabulary is a more complex problem.  Let's look at the complexity of the dataset we'll be working with."
   ]
  },
  {
   "cell_type": "code",
   "execution_count": 2,
   "metadata": {},
   "outputs": [
    {
     "name": "stdout",
     "output_type": "stream",
     "text": [
      "1823250 English words.\n",
      "227 unique English words.\n",
      "10 Most common words in the English dataset:\n",
      "\"is\" \",\" \".\" \"in\" \"it\" \"during\" \"the\" \"but\" \"and\" \"sometimes\"\n",
      "\n",
      "1961295 French words.\n",
      "355 unique French words.\n",
      "10 Most common words in the French dataset:\n",
      "\"est\" \".\" \",\" \"en\" \"il\" \"les\" \"mais\" \"et\" \"la\" \"parfois\"\n"
     ]
    }
   ],
   "source": [
    "import collections\n",
    "\n",
    "\n",
    "english_words_counter = collections.Counter([word for sentence in english_sentences for word in sentence.split()])\n",
    "french_words_counter = collections.Counter([word for sentence in french_sentences for word in sentence.split()])\n",
    "\n",
    "print('{} English words.'.format(len([word for sentence in english_sentences for word in sentence.split()])))\n",
    "print('{} unique English words.'.format(len(english_words_counter)))\n",
    "print('10 Most common words in the English dataset:')\n",
    "print('\"' + '\" \"'.join(list(zip(*english_words_counter.most_common(10)))[0]) + '\"')\n",
    "print()\n",
    "print('{} French words.'.format(len([word for sentence in french_sentences for word in sentence.split()])))\n",
    "print('{} unique French words.'.format(len(french_words_counter)))\n",
    "print('10 Most common words in the French dataset:')\n",
    "print('\"' + '\" \"'.join(list(zip(*french_words_counter.most_common(10)))[0]) + '\"')"
   ]
  },
  {
   "cell_type": "markdown",
   "metadata": {},
   "source": [
    "For comparison, _Alice's Adventures in Wonderland_ contains 2,766 unique words of a total of 15,500 words.\n",
    "## Preprocess\n",
    "For this project, you won't use text data as input to your model. Instead, you'll convert the text into sequences of integers using the following preprocess methods:\n",
    "1. Tokenize the words into ids\n",
    "2. Add padding to make all the sequences the same length.\n",
    "\n",
    "Time to start preprocessing the data...\n",
    "### Tokenize (IMPLEMENTATION)\n",
    "For a neural network to predict on text data, it first has to be turned into data it can understand. Text data like \"dog\" is a sequence of ASCII character encodings.  Since a neural network is a series of multiplication and addition operations, the input data needs to be number(s).\n",
    "\n",
    "We can turn each character into a number or each word into a number.  These are called character and word ids, respectively.  Character ids are used for character level models that generate text predictions for each character.  A word level model uses word ids that generate text predictions for each word.  Word level models tend to learn better, since they are lower in complexity, so we'll use those.\n",
    "\n",
    "Turn each sentence into a sequence of words ids using Keras's [`Tokenizer`](https://keras.io/preprocessing/text/#tokenizer) function. Use this function to tokenize `english_sentences` and `french_sentences` in the cell below.\n",
    "\n",
    "Running the cell will run `tokenize` on sample data and show output for debugging."
   ]
  },
  {
   "cell_type": "code",
   "execution_count": 3,
   "metadata": {},
   "outputs": [
    {
     "name": "stderr",
     "output_type": "stream",
     "text": [
      "Using TensorFlow backend.\n",
      "/home/aind2/anaconda3/envs/aind2-nlp/lib/python3.6/importlib/_bootstrap.py:205: RuntimeWarning: compiletime version 3.5 of module 'tensorflow.python.framework.fast_tensor_util' does not match runtime version 3.6\n",
      "  return f(*args, **kwds)\n"
     ]
    },
    {
     "name": "stdout",
     "output_type": "stream",
     "text": [
      "{'the': 1, 'quick': 2, 'a': 3, 'brown': 4, 'fox': 5, 'jumps': 6, 'over': 7, 'lazy': 8, 'dog': 9, 'by': 10, 'jove': 11, 'my': 12, 'study': 13, 'of': 14, 'lexicography': 15, 'won': 16, 'prize': 17, 'this': 18, 'is': 19, 'short': 20, 'sentence': 21}\n",
      "\n",
      "Sequence 1 in x\n",
      "  Input:  The quick brown fox jumps over the lazy dog .\n",
      "  Output: [1, 2, 4, 5, 6, 7, 1, 8, 9]\n",
      "Sequence 2 in x\n",
      "  Input:  By Jove , my quick study of lexicography won a prize .\n",
      "  Output: [10, 11, 12, 2, 13, 14, 15, 16, 3, 17]\n",
      "Sequence 3 in x\n",
      "  Input:  This is a short sentence .\n",
      "  Output: [18, 19, 3, 20, 21]\n"
     ]
    }
   ],
   "source": [
    "import project_tests as tests\n",
    "from keras.preprocessing.text import Tokenizer\n",
    "\n",
    "\n",
    "def tokenize(x):\n",
    "    \"\"\"\n",
    "    Tokenize x\n",
    "    :param x: List of sentences/strings to be tokenized\n",
    "    :return: Tuple of (tokenized x data, tokenizer used to tokenize x)\n",
    "    \"\"\"\n",
    "    # TODO: Implement\n",
    "    tokenizer = Tokenizer()\n",
    "    # Need to call fit first to build word_index\n",
    "    # https://stackoverflow.com/questions/41602258/tokenizer-error-in-keras-pipeline\n",
    "    tokenizer.fit_on_texts(x)\n",
    "    sequences = tokenizer.texts_to_sequences(x)\n",
    "    return sequences, tokenizer\n",
    "tests.test_tokenize(tokenize)\n",
    "\n",
    "# Tokenize Example output\n",
    "text_sentences = [\n",
    "    'The quick brown fox jumps over the lazy dog .',\n",
    "    'By Jove , my quick study of lexicography won a prize .',\n",
    "    'This is a short sentence .']\n",
    "text_tokenized, text_tokenizer = tokenize(text_sentences)\n",
    "print(text_tokenizer.word_index)\n",
    "print()\n",
    "for sample_i, (sent, token_sent) in enumerate(zip(text_sentences, text_tokenized)):\n",
    "    print('Sequence {} in x'.format(sample_i + 1))\n",
    "    print('  Input:  {}'.format(sent))\n",
    "    print('  Output: {}'.format(token_sent))"
   ]
  },
  {
   "cell_type": "markdown",
   "metadata": {},
   "source": [
    "### Padding (IMPLEMENTATION)\n",
    "When batching the sequence of word ids together, each sequence needs to be the same length.  Since sentences are dynamic in length, we can add padding to the end of the sequences to make them the same length.\n",
    "\n",
    "Make sure all the English sequences have the same length and all the French sequences have the same length by adding padding to the **end** of each sequence using Keras's [`pad_sequences`](https://keras.io/preprocessing/sequence/#pad_sequences) function."
   ]
  },
  {
   "cell_type": "code",
   "execution_count": 4,
   "metadata": {},
   "outputs": [
    {
     "name": "stdout",
     "output_type": "stream",
     "text": [
      "Sequence 1 in x\n",
      "  Input:  [1 2 4 5 6 7 1 8 9]\n",
      "  Output: [1 2 4 5 6 7 1 8 9 0]\n",
      "Sequence 2 in x\n",
      "  Input:  [10 11 12  2 13 14 15 16  3 17]\n",
      "  Output: [10 11 12  2 13 14 15 16  3 17]\n",
      "Sequence 3 in x\n",
      "  Input:  [18 19  3 20 21]\n",
      "  Output: [18 19  3 20 21  0  0  0  0  0]\n"
     ]
    }
   ],
   "source": [
    "import numpy as np\n",
    "from keras.preprocessing.sequence import pad_sequences\n",
    "\n",
    "\n",
    "def pad(x, length=None):\n",
    "    \"\"\"\n",
    "    Pad x\n",
    "    :param x: List of sequences.\n",
    "    :param length: Length to pad the sequence to.  If None, use length of longest sequence in x.\n",
    "    :return: Padded numpy array of sequences\n",
    "    \"\"\"\n",
    "    # TODO: Implement\n",
    "    if length == None:\n",
    "        length = max(len(seq) for seq in x)\n",
    "    \n",
    "    return pad_sequences(x, maxlen=length, padding='post', truncating='post')\n",
    "tests.test_pad(pad)\n",
    "\n",
    "# Pad Tokenized output\n",
    "test_pad = pad(text_tokenized)\n",
    "for sample_i, (token_sent, pad_sent) in enumerate(zip(text_tokenized, test_pad)):\n",
    "    print('Sequence {} in x'.format(sample_i + 1))\n",
    "    print('  Input:  {}'.format(np.array(token_sent)))\n",
    "    print('  Output: {}'.format(pad_sent))"
   ]
  },
  {
   "cell_type": "markdown",
   "metadata": {},
   "source": [
    "### Preprocess Pipeline\n",
    "Your focus for this project is to build neural network architecture, so we won't ask you to create a preprocess pipeline.  Instead, we've provided you with the implementation of the `preprocess` function."
   ]
  },
  {
   "cell_type": "code",
   "execution_count": 5,
   "metadata": {},
   "outputs": [
    {
     "name": "stdout",
     "output_type": "stream",
     "text": [
      "Data Preprocessed\n"
     ]
    }
   ],
   "source": [
    "def preprocess(x, y):\n",
    "    \"\"\"\n",
    "    Preprocess x and y\n",
    "    :param x: Feature List of sentences\n",
    "    :param y: Label List of sentences\n",
    "    :return: Tuple of (Preprocessed x, Preprocessed y, x tokenizer, y tokenizer)\n",
    "    \"\"\"\n",
    "    preprocess_x, x_tk = tokenize(x)\n",
    "    preprocess_y, y_tk = tokenize(y)\n",
    "\n",
    "    preprocess_x = pad(preprocess_x)\n",
    "    preprocess_y = pad(preprocess_y)\n",
    "\n",
    "    # Keras's sparse_categorical_crossentropy function requires the labels to be in 3 dimensions\n",
    "    preprocess_y = preprocess_y.reshape(*preprocess_y.shape, 1)\n",
    "\n",
    "    return preprocess_x, preprocess_y, x_tk, y_tk\n",
    "\n",
    "preproc_english_sentences, preproc_french_sentences, english_tokenizer, french_tokenizer =\\\n",
    "    preprocess(english_sentences, french_sentences)\n",
    "\n",
    "print('Data Preprocessed')"
   ]
  },
  {
   "cell_type": "markdown",
   "metadata": {},
   "source": [
    "## Models\n",
    "In this section, you will experiment with various neural network architectures.\n",
    "You will begin by training four relatively simple architectures.\n",
    "- Model 1 is a simple RNN\n",
    "- Model 2 is a RNN with Embedding\n",
    "- Model 3 is a Bidirectional RNN\n",
    "- Model 4 is an optional Encoder-Decoder RNN\n",
    "\n",
    "After experimenting with the four simple architectures, you will construct a deeper architecture that is designed to outperform all four models.\n",
    "### Ids Back to Text\n",
    "The neural network will be translating the input to words ids, which isn't the final form we want.  We want the French translation.  The function `logits_to_text` will bridge the gab between the logits from the neural network to the French translation.  You'll be using this function to better understand the output of the neural network."
   ]
  },
  {
   "cell_type": "code",
   "execution_count": 6,
   "metadata": {},
   "outputs": [
    {
     "name": "stdout",
     "output_type": "stream",
     "text": [
      "`logits_to_text` function loaded.\n"
     ]
    }
   ],
   "source": [
    "def logits_to_text(logits, tokenizer):\n",
    "    \"\"\"\n",
    "    Turn logits from a neural network into text using the tokenizer\n",
    "    :param logits: Logits from a neural network\n",
    "    :param tokenizer: Keras Tokenizer fit on the labels\n",
    "    :return: String that represents the text of the logits\n",
    "    \"\"\"\n",
    "    index_to_words = {id: word for word, id in tokenizer.word_index.items()}\n",
    "    index_to_words[0] = '<PAD>'\n",
    "\n",
    "    return ' '.join([index_to_words[prediction] for prediction in np.argmax(logits, 1)])\n",
    "\n",
    "print('`logits_to_text` function loaded.')"
   ]
  },
  {
   "cell_type": "markdown",
   "metadata": {},
   "source": [
    "### Model 1: RNN (IMPLEMENTATION)\n",
    "![RNN](images/rnn.png)\n",
    "A basic RNN model is a good baseline for sequence data.  In this model, you'll build a RNN that translates English to French."
   ]
  },
  {
   "cell_type": "code",
   "execution_count": 23,
   "metadata": {},
   "outputs": [
    {
     "name": "stdout",
     "output_type": "stream",
     "text": [
      "Train on 110288 samples, validate on 27573 samples\n",
      "Epoch 1/10\n",
      "110288/110288 [==============================] - 145s 1ms/step - loss: 2.2237 - acc: 0.5214 - val_loss: nan - val_acc: 0.5969\n",
      "Epoch 2/10\n",
      "110288/110288 [==============================] - 142s 1ms/step - loss: 1.4256 - acc: 0.6126 - val_loss: nan - val_acc: 0.6270\n",
      "Epoch 3/10\n",
      "110288/110288 [==============================] - 143s 1ms/step - loss: 1.2502 - acc: 0.6387 - val_loss: nan - val_acc: 0.6506\n",
      "Epoch 4/10\n",
      "110288/110288 [==============================] - 144s 1ms/step - loss: 1.1423 - acc: 0.6565 - val_loss: nan - val_acc: 0.6519\n",
      "Epoch 5/10\n",
      "110288/110288 [==============================] - 143s 1ms/step - loss: 1.0693 - acc: 0.6701 - val_loss: nan - val_acc: 0.6747\n",
      "Epoch 6/10\n",
      "110288/110288 [==============================] - 146s 1ms/step - loss: 1.0135 - acc: 0.6785 - val_loss: nan - val_acc: 0.6800\n",
      "Epoch 7/10\n",
      "110288/110288 [==============================] - 141s 1ms/step - loss: 0.9696 - acc: 0.6850 - val_loss: nan - val_acc: 0.6859\n",
      "Epoch 8/10\n",
      "110288/110288 [==============================] - 143s 1ms/step - loss: 0.9332 - acc: 0.6932 - val_loss: nan - val_acc: 0.7010\n",
      "Epoch 9/10\n",
      "110288/110288 [==============================] - 143s 1ms/step - loss: 0.9019 - acc: 0.6996 - val_loss: nan - val_acc: 0.6980\n",
      "Epoch 10/10\n",
      "110288/110288 [==============================] - 144s 1ms/step - loss: 0.8658 - acc: 0.7095 - val_loss: nan - val_acc: 0.7082\n",
      "new jersey est parfois chaud en mois de mai et il est en en <PAD> <PAD> <PAD> <PAD> <PAD> <PAD> <PAD>\n"
     ]
    }
   ],
   "source": [
    "from keras.layers import GRU, Input, Dense, TimeDistributed\n",
    "from keras.models import Model, Sequential\n",
    "from keras.layers import Activation\n",
    "from keras.optimizers import Adam\n",
    "from keras.losses import sparse_categorical_crossentropy\n",
    "\n",
    "\n",
    "def simple_model(input_shape, output_sequence_length, english_vocab_size, french_vocab_size):\n",
    "    \"\"\"\n",
    "    Build and train a basic RNN on x and y\n",
    "    :param input_shape: Tuple of input shape\n",
    "    :param output_sequence_length: Length of output sequence\n",
    "    :param english_vocab_size: Number of unique English words in the dataset\n",
    "    :param french_vocab_size: Number of unique French words in the dataset\n",
    "    :return: Keras model built, but not trained\n",
    "    \"\"\"\n",
    "    #print(\"input_shape:\",input_shape)\n",
    "    #print(\"input_shape[1:]:\",input_shape[1:])\n",
    "    #print(\"output_sequence_length=\",output_sequence_length)\n",
    "    #print(\"english_vocab_size=\",english_vocab_size)\n",
    "    #print(\"french_vocab_size=\",french_vocab_size)\n",
    "    \n",
    "    learning_rate = 0.001\n",
    "    \n",
    "    # TODO: Build the layers\n",
    "    model = Sequential()\n",
    "    \n",
    "    # https://keras.io/layers/recurrent/#gru\n",
    "    # return_sequences: Boolean. Whether to return the last output. in the output sequence, or the full sequence.\n",
    "    model.add(GRU(512, input_shape=input_shape[1:], return_sequences=True))\n",
    "    \n",
    "    # https://keras.io/layers/wrappers/\n",
    "    model.add(TimeDistributed(Dense(french_vocab_size, activation='softmax')))\n",
    "    \n",
    "    model.compile(loss=sparse_categorical_crossentropy,\n",
    "                  optimizer=Adam(lr=learning_rate),\n",
    "                  metrics=['accuracy'])\n",
    "    return model\n",
    "tests.test_simple_model(simple_model)\n",
    "\n",
    "\n",
    "# Reshaping the input to work with a basic RNN\n",
    "tmp_x = pad(preproc_english_sentences, preproc_french_sentences.shape[1])\n",
    "tmp_x = tmp_x.reshape((-1, preproc_french_sentences.shape[-2], 1))\n",
    "\n",
    "# Train the neural network\n",
    "simple_rnn_model = simple_model(\n",
    "    tmp_x.shape,\n",
    "    preproc_french_sentences.shape[1],\n",
    "    len(english_tokenizer.word_index),\n",
    "    len(french_tokenizer.word_index))\n",
    "simple_rnn_model.fit(tmp_x, preproc_french_sentences, batch_size=1024, epochs=10, validation_split=0.2)\n",
    "\n",
    "# Print prediction(s)\n",
    "print(logits_to_text(simple_rnn_model.predict(tmp_x[:1])[0], french_tokenizer))"
   ]
  },
  {
   "cell_type": "markdown",
   "metadata": {},
   "source": [
    "### Model 2: Embedding (IMPLEMENTATION)\n",
    "![RNN](images/embedding.png)\n",
    "You've turned the words into ids, but there's a better representation of a word.  This is called word embeddings.  An embedding is a vector representation of the word that is close to similar words in n-dimensional space, where the n represents the size of the embedding vectors.\n",
    "\n",
    "In this model, you'll create a RNN model using embedding."
   ]
  },
  {
   "cell_type": "code",
   "execution_count": 31,
   "metadata": {},
   "outputs": [
    {
     "name": "stdout",
     "output_type": "stream",
     "text": [
      "Train on 110288 samples, validate on 27573 samples\n",
      "Epoch 1/10\n",
      "110288/110288 [==============================] - 173s 2ms/step - loss: 2.8432 - acc: 0.4726 - val_loss: nan - val_acc: 0.5732\n",
      "Epoch 2/10\n",
      "110288/110288 [==============================] - 173s 2ms/step - loss: 1.3081 - acc: 0.6880 - val_loss: nan - val_acc: 0.7684\n",
      "Epoch 3/10\n",
      "110288/110288 [==============================] - 173s 2ms/step - loss: 0.7321 - acc: 0.8064 - val_loss: nan - val_acc: 0.8328\n",
      "Epoch 4/10\n",
      "110288/110288 [==============================] - 170s 2ms/step - loss: 0.4923 - acc: 0.8539 - val_loss: nan - val_acc: 0.8745\n",
      "Epoch 5/10\n",
      "110288/110288 [==============================] - 173s 2ms/step - loss: 0.3785 - acc: 0.8830 - val_loss: nan - val_acc: 0.8918\n",
      "Epoch 6/10\n",
      "110288/110288 [==============================] - 174s 2ms/step - loss: 0.3178 - acc: 0.8989 - val_loss: nan - val_acc: 0.8988\n",
      "Epoch 7/10\n",
      "110288/110288 [==============================] - 172s 2ms/step - loss: 0.2803 - acc: 0.9090 - val_loss: nan - val_acc: 0.9124\n",
      "Epoch 8/10\n",
      "110288/110288 [==============================] - 173s 2ms/step - loss: 0.2527 - acc: 0.9171 - val_loss: nan - val_acc: 0.9183\n",
      "Epoch 9/10\n",
      "110288/110288 [==============================] - 173s 2ms/step - loss: 0.2358 - acc: 0.9215 - val_loss: nan - val_acc: 0.9198\n",
      "Epoch 10/10\n",
      "110288/110288 [==============================] - 168s 2ms/step - loss: 0.2214 - acc: 0.9256 - val_loss: nan - val_acc: 0.9277\n",
      "new jersey est parfois calme en l' automne et il est neigeux en avril <PAD> <PAD> <PAD> <PAD> <PAD> <PAD> <PAD>\n"
     ]
    }
   ],
   "source": [
    "from keras.layers.embeddings import Embedding\n",
    "\n",
    "\n",
    "def embed_model(input_shape, output_sequence_length, english_vocab_size, french_vocab_size):\n",
    "    \"\"\"\n",
    "    Build and train a RNN model using word embedding on x and y\n",
    "    :param input_shape: Tuple of input shape\n",
    "    :param output_sequence_length: Length of output sequence\n",
    "    :param english_vocab_size: Number of unique English words in the dataset\n",
    "    :param french_vocab_size: Number of unique French words in the dataset\n",
    "    :return: Keras model built, but not trained\n",
    "    \"\"\"\n",
    "    # TODO: Implement\n",
    "    learning_rate = 0.001\n",
    "    \n",
    "    model = Sequential()\n",
    "    \n",
    "    #https://keras.io/layers/embeddings/\n",
    "    # keras.layers.Embedding(input_dim, output_dim, embeddings_initializer='uniform', embeddings_regularizer=None, \n",
    "    #  activity_regularizer=None, embeddings_constraint=None, mask_zero=False, input_length=None)\n",
    "    # e.g. model.add(Embedding(1000, 64, input_length=10))\n",
    "    # the model will take as input an integer matrix of size (batch, input_length).\n",
    "    # the largest integer (i.e. word index) in the input should be no larger than 999 (vocabulary size).\n",
    "    # now model.output_shape == (None, 10, 64), where None is the batch dimension.\n",
    "    model.add(Embedding(english_vocab_size + 1, 256, input_length=input_shape[1]))\n",
    "    \n",
    "    model.add(GRU(512, return_sequences=True))\n",
    "    \n",
    "    # https://keras.io/layers/wrappers/\n",
    "    model.add(TimeDistributed(Dense(french_vocab_size, activation='softmax')))\n",
    "    \n",
    "    model.compile(loss=sparse_categorical_crossentropy,\n",
    "                  optimizer=Adam(lr=learning_rate),\n",
    "                  metrics=['accuracy'])\n",
    "    return model\n",
    "tests.test_embed_model(embed_model)\n",
    "\n",
    "\n",
    "# TODO: Reshape the input\n",
    "tmp_x = pad(preproc_english_sentences, preproc_french_sentences.shape[1])\n",
    "#print(tmp_x.shape)\n",
    "#tmp_x = tmp_x.reshape((-1, preproc_french_sentences.shape[-2], 1))\n",
    "#print(tmp_x.shape)\n",
    "\n",
    "# TODO: Train the neural network\n",
    "embed_rnn_model = embed_model(\n",
    "    tmp_x.shape,\n",
    "    preproc_french_sentences.shape[1],\n",
    "    len(english_tokenizer.word_index),\n",
    "    len(french_tokenizer.word_index))\n",
    "embed_rnn_model.fit(tmp_x, preproc_french_sentences, batch_size=1024, epochs=10, validation_split=0.2)\n",
    "\n",
    "# TODO: Print prediction(s)\n",
    "print(logits_to_text(embed_rnn_model.predict(tmp_x[:1])[0], french_tokenizer))"
   ]
  },
  {
   "cell_type": "markdown",
   "metadata": {},
   "source": [
    "### Model 3: Bidirectional RNNs (IMPLEMENTATION)\n",
    "![RNN](images/bidirectional.png)\n",
    "One restriction of a RNN is that it can't see the future input, only the past.  This is where bidirectional recurrent neural networks come in.  They are able to see the future data."
   ]
  },
  {
   "cell_type": "code",
   "execution_count": 36,
   "metadata": {},
   "outputs": [
    {
     "name": "stdout",
     "output_type": "stream",
     "text": [
      "Train on 110288 samples, validate on 27573 samples\n",
      "Epoch 1/10\n",
      "110288/110288 [==============================] - 252s 2ms/step - loss: 1.8602 - acc: 0.5726 - val_loss: nan - val_acc: 0.6276\n",
      "Epoch 2/10\n",
      "110288/110288 [==============================] - 252s 2ms/step - loss: 1.2433 - acc: 0.6446 - val_loss: nan - val_acc: 0.6591\n",
      "Epoch 3/10\n",
      "110288/110288 [==============================] - 249s 2ms/step - loss: 1.1075 - acc: 0.6716 - val_loss: nan - val_acc: 0.6837\n",
      "Epoch 4/10\n",
      "110288/110288 [==============================] - 249s 2ms/step - loss: 1.0107 - acc: 0.6886 - val_loss: nan - val_acc: 0.6980\n",
      "Epoch 5/10\n",
      "110288/110288 [==============================] - 254s 2ms/step - loss: 0.9395 - acc: 0.7005 - val_loss: nan - val_acc: 0.7081\n",
      "Epoch 6/10\n",
      "110288/110288 [==============================] - 250s 2ms/step - loss: 0.8856 - acc: 0.7095 - val_loss: nan - val_acc: 0.7116\n",
      "Epoch 7/10\n",
      "110288/110288 [==============================] - 250s 2ms/step - loss: 0.8383 - acc: 0.7193 - val_loss: nan - val_acc: 0.7262\n",
      "Epoch 8/10\n",
      "110288/110288 [==============================] - 251s 2ms/step - loss: 0.7980 - acc: 0.7287 - val_loss: nan - val_acc: 0.7355\n",
      "Epoch 9/10\n",
      "110288/110288 [==============================] - 256s 2ms/step - loss: 0.7581 - acc: 0.7403 - val_loss: nan - val_acc: 0.7474\n",
      "Epoch 10/10\n",
      "110288/110288 [==============================] - 252s 2ms/step - loss: 0.7153 - acc: 0.7570 - val_loss: nan - val_acc: 0.7643\n",
      "new jersey est parfois calme au mois de il est il est en <PAD> <PAD> <PAD> <PAD> <PAD> <PAD> <PAD> <PAD>\n"
     ]
    }
   ],
   "source": [
    "from keras.layers import Bidirectional\n",
    "\n",
    "\n",
    "def bd_model(input_shape, output_sequence_length, english_vocab_size, french_vocab_size):\n",
    "    \"\"\"\n",
    "    Build and train a bidirectional RNN model on x and y\n",
    "    :param input_shape: Tuple of input shape\n",
    "    :param output_sequence_length: Length of output sequence\n",
    "    :param english_vocab_size: Number of unique English words in the dataset\n",
    "    :param french_vocab_size: Number of unique French words in the dataset\n",
    "    :return: Keras model built, but not trained\n",
    "    \"\"\"\n",
    "    # TODO: Implement\n",
    "    learning_rate = 0.001\n",
    "    \n",
    "    model = Sequential()\n",
    "    \n",
    "    # https://keras.io/layers/wrappers/#bidirectional\n",
    "    # keras.layers.Bidirectional(layer, merge_mode='concat', weights=None)\n",
    "    model.add(Bidirectional(GRU(512, return_sequences=True), input_shape=input_shape[1:]))\n",
    "    \n",
    "    model.add(TimeDistributed(Dense(french_vocab_size, activation='softmax')))\n",
    "    \n",
    "    model.compile(loss=sparse_categorical_crossentropy,\n",
    "                 optimizer=Adam(lr=learning_rate),\n",
    "                 metrics=['accuracy'])\n",
    "    \n",
    "    return model\n",
    "tests.test_bd_model(bd_model)\n",
    "\n",
    "\n",
    "# TODO: Train and Print prediction(s)\n",
    "tmp_x = pad(preproc_english_sentences, preproc_french_sentences.shape[1])\n",
    "tmp_x = tmp_x.reshape((-1, preproc_french_sentences.shape[-2], 1))\n",
    "\n",
    "bd_rnn_model = bd_model(\n",
    "    tmp_x.shape,\n",
    "    preproc_french_sentences.shape[1],\n",
    "    len(english_tokenizer.word_index),\n",
    "    len(french_tokenizer.word_index))\n",
    "bd_rnn_model.fit(tmp_x, preproc_french_sentences, batch_size=1024, epochs=10, validation_split=0.2)\n",
    "\n",
    "print(logits_to_text(bd_rnn_model.predict(tmp_x[:1])[0], french_tokenizer))"
   ]
  },
  {
   "cell_type": "markdown",
   "metadata": {},
   "source": [
    "### Model 4: Encoder-Decoder (OPTIONAL)\n",
    "Time to look at encoder-decoder models.  This model is made up of an encoder and decoder. The encoder creates a matrix representation of the sentence.  The decoder takes this matrix as input and predicts the translation as output.\n",
    "\n",
    "Create an encoder-decoder model in the cell below."
   ]
  },
  {
   "cell_type": "code",
   "execution_count": 37,
   "metadata": {},
   "outputs": [
    {
     "name": "stdout",
     "output_type": "stream",
     "text": [
      "Train on 110288 samples, validate on 27573 samples\n",
      "Epoch 1/10\n",
      "110288/110288 [==============================] - 291s 3ms/step - loss: 2.6968 - acc: 0.4653 - val_loss: nan - val_acc: 0.4709\n",
      "Epoch 2/10\n",
      "110288/110288 [==============================] - 286s 3ms/step - loss: 1.8349 - acc: 0.5478 - val_loss: nan - val_acc: 0.5732\n",
      "Epoch 3/10\n",
      "110288/110288 [==============================] - 289s 3ms/step - loss: 1.5341 - acc: 0.5858 - val_loss: nan - val_acc: 0.6043\n",
      "Epoch 4/10\n",
      "110288/110288 [==============================] - 291s 3ms/step - loss: 1.3933 - acc: 0.6115 - val_loss: nan - val_acc: 0.6222\n",
      "Epoch 5/10\n",
      "110288/110288 [==============================] - 291s 3ms/step - loss: 1.3033 - acc: 0.6306 - val_loss: nan - val_acc: 0.6364\n",
      "Epoch 6/10\n",
      "110288/110288 [==============================] - 295s 3ms/step - loss: 1.2520 - acc: 0.6368 - val_loss: nan - val_acc: 0.6417\n",
      "Epoch 7/10\n",
      "110288/110288 [==============================] - 284s 3ms/step - loss: 1.1883 - acc: 0.6467 - val_loss: nan - val_acc: 0.6514\n",
      "Epoch 8/10\n",
      "110288/110288 [==============================] - 285s 3ms/step - loss: 1.1441 - acc: 0.6542 - val_loss: nan - val_acc: 0.6548\n",
      "Epoch 9/10\n",
      "110288/110288 [==============================] - 289s 3ms/step - loss: 1.0997 - acc: 0.6617 - val_loss: nan - val_acc: 0.6684\n",
      "Epoch 10/10\n",
      "110288/110288 [==============================] - 285s 3ms/step - loss: 1.0573 - acc: 0.6708 - val_loss: nan - val_acc: 0.6720\n",
      "new jersey est parfois agrã©able en avril et il est est en en <PAD> <PAD> <PAD> <PAD> <PAD> <PAD> <PAD> <PAD>\n"
     ]
    }
   ],
   "source": [
    "from keras.layers import RepeatVector\n",
    "\n",
    "\n",
    "def encdec_model(input_shape, output_sequence_length, english_vocab_size, french_vocab_size):\n",
    "    \"\"\"\n",
    "    Build and train an encoder-decoder model on x and y\n",
    "    :param input_shape: Tuple of input shape\n",
    "    :param output_sequence_length: Length of output sequence\n",
    "    :param english_vocab_size: Number of unique English words in the dataset\n",
    "    :param french_vocab_size: Number of unique French words in the dataset\n",
    "    :return: Keras model built, but not trained\n",
    "    \"\"\"\n",
    "    # OPTIONAL: Implement\n",
    "    learning_rate = 0.001\n",
    "    \n",
    "    model = Sequential()\n",
    "    # https://blog.keras.io/building-autoencoders-in-keras.html\n",
    "    # encoder\n",
    "    # first use a GRU encoder to turn your input sequences into a single vector\n",
    "    #  that contains information about the entire sequence\n",
    "    model.add(GRU(512, input_shape=input_shape[1:]))\n",
    "    \n",
    "    # decoder\n",
    "    # https://keras.io/layers/core/#repeatvector\n",
    "    # then repeat this vector n times (where n is the number of timesteps in the output sequence),\n",
    "    model.add(RepeatVector(output_sequence_length))\n",
    "    \n",
    "    # and run a GRU decoder to turn this constant sequence into the target sequence.\n",
    "    model.add(GRU(512, return_sequences=True))\n",
    "    \n",
    "    model.add(TimeDistributed(Dense(french_vocab_size, activation='softmax')))\n",
    "    \n",
    "    model.compile(loss=sparse_categorical_crossentropy,\n",
    "                 optimizer=Adam(lr=learning_rate),\n",
    "                 metrics=['accuracy'])\n",
    "    \n",
    "    return model\n",
    "tests.test_encdec_model(encdec_model)\n",
    "\n",
    "\n",
    "# OPTIONAL: Train and Print prediction(s)\n",
    "tmp_x = pad(preproc_english_sentences, preproc_french_sentences.shape[1])\n",
    "tmp_x = tmp_x.reshape((-1, preproc_french_sentences.shape[-2], 1))\n",
    "\n",
    "encdec_rnn_model = encdec_model(\n",
    "    tmp_x.shape,\n",
    "    preproc_french_sentences.shape[1],\n",
    "    len(english_tokenizer.word_index),\n",
    "    len(french_tokenizer.word_index))\n",
    "encdec_rnn_model.fit(tmp_x, preproc_french_sentences, batch_size=1024, epochs=10, validation_split=0.2)\n",
    "\n",
    "print(logits_to_text(encdec_rnn_model.predict(tmp_x[:1])[0], french_tokenizer))"
   ]
  },
  {
   "cell_type": "markdown",
   "metadata": {},
   "source": [
    "### Model 5: Custom (IMPLEMENTATION)\n",
    "Use everything you learned from the previous models to create a model that incorporates embedding and a bidirectional rnn into one model."
   ]
  },
  {
   "cell_type": "code",
   "execution_count": 21,
   "metadata": {},
   "outputs": [
    {
     "name": "stdout",
     "output_type": "stream",
     "text": [
      "_________________________________________________________________\n",
      "Layer (type)                 Output Shape              Param #   \n",
      "=================================================================\n",
      "embedding_1 (Embedding)      (None, 15, 256)           51200     \n",
      "_________________________________________________________________\n",
      "bidirectional_1 (Bidirection (None, 1024)              2362368   \n",
      "_________________________________________________________________\n",
      "repeat_vector_1 (RepeatVecto (None, 21, 1024)          0         \n",
      "_________________________________________________________________\n",
      "gru_2 (GRU)                  (None, 21, 512)           2360832   \n",
      "_________________________________________________________________\n",
      "time_distributed_1 (TimeDist (None, 21, 344)           176472    \n",
      "=================================================================\n",
      "Total params: 4,950,872\n",
      "Trainable params: 4,950,872\n",
      "Non-trainable params: 0\n",
      "_________________________________________________________________\n",
      "Final Model Loaded\n"
     ]
    }
   ],
   "source": [
    "from keras.layers import GRU, Input, Dense, TimeDistributed\n",
    "from keras.models import Model, Sequential\n",
    "from keras.layers import Activation\n",
    "from keras.optimizers import Adam\n",
    "from keras.losses import sparse_categorical_crossentropy\n",
    "from keras.layers.embeddings import Embedding\n",
    "from keras.layers import Bidirectional\n",
    "from keras.layers import RepeatVector\n",
    "\n",
    "def model_final(input_shape, output_sequence_length, english_vocab_size, french_vocab_size):\n",
    "    \"\"\"\n",
    "    Build and train a model that incorporates embedding, encoder-decoder, and bidirectional RNN on x and y\n",
    "    :param input_shape: Tuple of input shape\n",
    "    :param output_sequence_length: Length of output sequence\n",
    "    :param english_vocab_size: Number of unique English words in the dataset\n",
    "    :param french_vocab_size: Number of unique French words in the dataset\n",
    "    :return: Keras model built, but not trained\n",
    "    \"\"\"\n",
    "    # TODO: Implement\n",
    "    learning_rate = 0.003\n",
    "    \n",
    "    model = Sequential()\n",
    "    # embedding layer\n",
    "    model.add(Embedding(english_vocab_size + 1, 256, input_length=input_shape[1]))\n",
    "    \n",
    "    # recurrent layer\n",
    "    # encoder\n",
    "    model.add(Bidirectional(GRU(512)))\n",
    "    \n",
    "    # decoder\n",
    "    model.add(RepeatVector(output_sequence_length))\n",
    "    model.add(GRU(512, return_sequences=True))\n",
    "    \n",
    "    # dense layer\n",
    "    model.add(TimeDistributed(Dense(french_vocab_size, activation='softmax')))\n",
    "\n",
    "    model.summary()\n",
    "    model.compile(loss=sparse_categorical_crossentropy,\n",
    "                 optimizer=Adam(lr=learning_rate),\n",
    "                 metrics=['accuracy'])\n",
    "    \n",
    "    return model\n",
    "tests.test_model_final(model_final)\n",
    "\n",
    "\n",
    "print('Final Model Loaded')"
   ]
  },
  {
   "cell_type": "markdown",
   "metadata": {},
   "source": [
    "## Prediction (IMPLEMENTATION)"
   ]
  },
  {
   "cell_type": "code",
   "execution_count": 22,
   "metadata": {},
   "outputs": [
    {
     "name": "stdout",
     "output_type": "stream",
     "text": [
      "_________________________________________________________________\n",
      "Layer (type)                 Output Shape              Param #   \n",
      "=================================================================\n",
      "embedding_2 (Embedding)      (None, 21, 256)           51200     \n",
      "_________________________________________________________________\n",
      "bidirectional_2 (Bidirection (None, 1024)              2362368   \n",
      "_________________________________________________________________\n",
      "repeat_vector_2 (RepeatVecto (None, 21, 1024)          0         \n",
      "_________________________________________________________________\n",
      "gru_4 (GRU)                  (None, 21, 512)           2360832   \n",
      "_________________________________________________________________\n",
      "time_distributed_2 (TimeDist (None, 21, 344)           176472    \n",
      "=================================================================\n",
      "Total params: 4,950,872\n",
      "Trainable params: 4,950,872\n",
      "Non-trainable params: 0\n",
      "_________________________________________________________________\n",
      "Train on 110288 samples, validate on 27573 samples\n",
      "Epoch 1/20\n",
      "110288/110288 [==============================] - 71s 642us/step - loss: 2.4585 - acc: 0.4725 - val_loss: nan - val_acc: 0.5582\n",
      "Epoch 2/20\n",
      "110288/110288 [==============================] - 64s 578us/step - loss: 1.3097 - acc: 0.6565 - val_loss: nan - val_acc: 0.7193\n",
      "Epoch 3/20\n",
      "110288/110288 [==============================] - 64s 581us/step - loss: 0.8693 - acc: 0.7506 - val_loss: nan - val_acc: 0.7934\n",
      "Epoch 4/20\n",
      "110288/110288 [==============================] - 64s 581us/step - loss: 0.5893 - acc: 0.8247 - val_loss: nan - val_acc: 0.8658\n",
      "Epoch 5/20\n",
      "110288/110288 [==============================] - 64s 582us/step - loss: 0.3517 - acc: 0.8995 - val_loss: nan - val_acc: 0.9231\n",
      "Epoch 6/20\n",
      "110288/110288 [==============================] - 64s 583us/step - loss: 0.2213 - acc: 0.9389 - val_loss: nan - val_acc: 0.9487\n",
      "Epoch 7/20\n",
      "110288/110288 [==============================] - 64s 583us/step - loss: 0.1540 - acc: 0.9570 - val_loss: nan - val_acc: 0.9616\n",
      "Epoch 8/20\n",
      "110288/110288 [==============================] - 64s 583us/step - loss: 0.1107 - acc: 0.9685 - val_loss: nan - val_acc: 0.9672\n",
      "Epoch 9/20\n",
      "110288/110288 [==============================] - 64s 583us/step - loss: 0.0933 - acc: 0.9729 - val_loss: nan - val_acc: 0.9720\n",
      "Epoch 10/20\n",
      "110288/110288 [==============================] - 65s 586us/step - loss: 0.0828 - acc: 0.9760 - val_loss: nan - val_acc: 0.9424\n",
      "Epoch 11/20\n",
      "110288/110288 [==============================] - 64s 583us/step - loss: 0.1016 - acc: 0.9708 - val_loss: nan - val_acc: 0.9758\n",
      "Epoch 12/20\n",
      "110288/110288 [==============================] - 64s 583us/step - loss: 0.0633 - acc: 0.9814 - val_loss: nan - val_acc: 0.9799\n",
      "Epoch 13/20\n",
      "110288/110288 [==============================] - 64s 582us/step - loss: 0.0534 - acc: 0.9844 - val_loss: nan - val_acc: 0.9811\n",
      "Epoch 14/20\n",
      "110288/110288 [==============================] - 65s 585us/step - loss: 0.0443 - acc: 0.9871 - val_loss: nan - val_acc: 0.9769\n",
      "Epoch 15/20\n",
      "110288/110288 [==============================] - 64s 584us/step - loss: 0.0489 - acc: 0.9857 - val_loss: nan - val_acc: 0.9796\n",
      "Epoch 16/20\n",
      "110288/110288 [==============================] - 64s 583us/step - loss: 0.0542 - acc: 0.9843 - val_loss: nan - val_acc: 0.9729\n",
      "Epoch 17/20\n",
      "110288/110288 [==============================] - 64s 583us/step - loss: 0.0549 - acc: 0.9837 - val_loss: nan - val_acc: 0.9766\n",
      "Epoch 18/20\n",
      "110288/110288 [==============================] - 65s 586us/step - loss: 0.0510 - acc: 0.9851 - val_loss: nan - val_acc: 0.9823\n",
      "Epoch 19/20\n",
      "110288/110288 [==============================] - 64s 584us/step - loss: 0.0310 - acc: 0.9909 - val_loss: nan - val_acc: 0.9834\n",
      "Epoch 20/20\n",
      "110288/110288 [==============================] - 64s 584us/step - loss: 0.0330 - acc: 0.9905 - val_loss: nan - val_acc: 0.9829\n",
      "Sample 1:\n",
      "il a vu un vieux camion jaune <PAD> <PAD> <PAD> <PAD> <PAD> <PAD> <PAD> <PAD> <PAD> <PAD> <PAD> <PAD> <PAD> <PAD>\n",
      "Il a vu un vieux camion jaune\n",
      "Sample 2:\n",
      "new jersey est parfois calme pendant l' automne et il est neigeux en avril <PAD> <PAD> <PAD> <PAD> <PAD> <PAD> <PAD>\n",
      "new jersey est parfois calme pendant l' automne et il est neigeux en avril <PAD> <PAD> <PAD> <PAD> <PAD> <PAD> <PAD>\n"
     ]
    }
   ],
   "source": [
    "import numpy as np\n",
    "from keras.preprocessing.sequence import pad_sequences\n",
    "\n",
    "\n",
    "def final_predictions(x, y, x_tk, y_tk):\n",
    "    \"\"\"\n",
    "    Gets predictions using the final model\n",
    "    :param x: Preprocessed English data\n",
    "    :param y: Preprocessed French data\n",
    "    :param x_tk: English tokenizer\n",
    "    :param y_tk: French tokenizer\n",
    "    \"\"\"\n",
    "    # TODO: Train neural network using model_final\n",
    "    x = pad(x, y.shape[1])\n",
    "    \n",
    "    model = model_final(x.shape,\n",
    "                        y.shape[1],\n",
    "                        len(x_tk.word_index),\n",
    "                        len(y_tk.word_index))\n",
    "    model.fit(x, y, batch_size=1024, epochs=20, validation_split=0.2)\n",
    "    \n",
    "    ## DON'T EDIT ANYTHING BELOW THIS LINE\n",
    "    y_id_to_word = {value: key for key, value in y_tk.word_index.items()}\n",
    "    y_id_to_word[0] = '<PAD>'\n",
    "\n",
    "    sentence = 'he saw a old yellow truck'\n",
    "    sentence = [x_tk.word_index[word] for word in sentence.split()]\n",
    "    sentence = pad_sequences([sentence], maxlen=x.shape[-1], padding='post')\n",
    "    sentences = np.array([sentence[0], x[0]])\n",
    "    predictions = model.predict(sentences, len(sentences))\n",
    "\n",
    "    print('Sample 1:')\n",
    "    print(' '.join([y_id_to_word[np.argmax(x)] for x in predictions[0]]))\n",
    "    print('Il a vu un vieux camion jaune')\n",
    "    print('Sample 2:')\n",
    "    print(' '.join([y_id_to_word[np.argmax(x)] for x in predictions[1]]))\n",
    "    # This seems to be wrong as np.argmax(x) always returns zero (See the next cell)\n",
    "    #print(' '.join([y_id_to_word[np.argmax(x)] for x in y[0]]))\n",
    "    print(' '.join([y_id_to_word[x[0]] for x in y[0]]))\n",
    "\n",
    "final_predictions(preproc_english_sentences, preproc_french_sentences, english_tokenizer, french_tokenizer)"
   ]
  },
  {
   "cell_type": "code",
   "execution_count": 20,
   "metadata": {},
   "outputs": [
    {
     "name": "stdout",
     "output_type": "stream",
     "text": [
      "<PAD> <PAD> <PAD> <PAD> <PAD> <PAD> <PAD> <PAD> <PAD> <PAD> <PAD> <PAD> <PAD> <PAD> <PAD> <PAD> <PAD> <PAD> <PAD> <PAD> <PAD>\n",
      "[4] 0\n",
      "[32] 0\n",
      "[31] 0\n",
      "[1] 0\n",
      "[12] 0\n",
      "[19] 0\n",
      "[2] 0\n",
      "[49] 0\n",
      "[6] 0\n",
      "[3] 0\n",
      "[95] 0\n",
      "[69] 0\n",
      "[2] 0\n",
      "[51] 0\n",
      "[0] 0\n",
      "[0] 0\n",
      "[0] 0\n",
      "[0] 0\n",
      "[0] 0\n",
      "[0] 0\n",
      "[0] 0\n",
      "new jersey est parfois calme pendant l' automne et il est neigeux en avril <PAD> <PAD> <PAD> <PAD> <PAD> <PAD> <PAD>\n"
     ]
    }
   ],
   "source": [
    "x = preproc_english_sentences\n",
    "y = preproc_french_sentences\n",
    "y_tk = french_tokenizer\n",
    "y_id_to_word = {value: key for key, value in y_tk.word_index.items()}\n",
    "y_id_to_word[0] = '<PAD>'\n",
    "print(' '.join([y_id_to_word[np.argmax(x)] for x in y[0]]))\n",
    "for yid in y[1]:\n",
    "    print(yid, np.argmax(yid))\n",
    "print(' '.join([y_id_to_word[x[0]] for x in y[0]]))"
   ]
  },
  {
   "cell_type": "markdown",
   "metadata": {},
   "source": [
    "## Submission\n",
    "When you are ready to submit your project, do the following steps:\n",
    "1. Ensure you pass all points on the [rubric](https://review.udacity.com/#!/rubrics/1004/view).\n",
    "2. Submit the following in a zip file.\n",
    "  - `helper.py`\n",
    "  - `machine_translation.ipynb`\n",
    "  - `machine_translation.html`\n",
    "    - You can export the notebook by navigating to **File -> Download as -> HTML (.html)**."
   ]
  }
 ],
 "metadata": {
  "kernelspec": {
   "display_name": "Python 3",
   "language": "python",
   "name": "python3"
  },
  "language_info": {
   "codemirror_mode": {
    "name": "ipython",
    "version": 3
   },
   "file_extension": ".py",
   "mimetype": "text/x-python",
   "name": "python",
   "nbconvert_exporter": "python",
   "pygments_lexer": "ipython3",
   "version": "3.6.2"
  }
 },
 "nbformat": 4,
 "nbformat_minor": 1
}
